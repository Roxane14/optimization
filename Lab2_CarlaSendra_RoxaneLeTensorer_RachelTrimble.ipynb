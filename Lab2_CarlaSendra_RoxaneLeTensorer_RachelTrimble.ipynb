{
 "cells": [
  {
   "cell_type": "markdown",
   "metadata": {},
   "source": [
    "# Lab2: Linear regression using robust functions\n",
    "\n",
    "**Carla Sendra Balcells**\\\n",
    "**Roxane Le Tensorer**\\\n",
    "**Rachel Trimble**"
   ]
  },
  {
   "cell_type": "markdown",
   "metadata": {},
   "source": [
    "## Gradient Descent"
   ]
  },
  {
   "cell_type": "markdown",
   "metadata": {},
   "source": [
    "### 1. Without Outliers"
   ]
  },
  {
   "cell_type": "code",
   "execution_count": 1,
   "metadata": {
    "ExecuteTime": {
     "end_time": "2020-11-01T14:39:34.496588Z",
     "start_time": "2020-11-01T14:39:33.324123Z"
    }
   },
   "outputs": [],
   "source": [
    "import numpy as np\n",
    "import math\n",
    "from matplotlib import pyplot as plt"
   ]
  },
  {
   "cell_type": "markdown",
   "metadata": {},
   "source": [
    "We first create the ramdomly generated a set of points. The generated points are in an array c containing 100 points in two dimensions. For the moment, all of them are coherent because they are organized around a 45° angle. Therefore, it should give a coherent result."
   ]
  },
  {
   "cell_type": "code",
   "execution_count": 2,
   "metadata": {
    "ExecuteTime": {
     "end_time": "2020-11-01T14:39:34.603176Z",
     "start_time": "2020-11-01T14:39:34.499952Z"
    }
   },
   "outputs": [],
   "source": [
    "m = [0.,0.]\n",
    "angle = 45*math.pi/180\n",
    "rot = np.array([[math.cos(angle), -math.sin(angle)], [math.sin(angle),\n",
    "math.cos(angle)]])\n",
    "lamb = np.array([[100,0],[0,1]])\n",
    "s = np.matmul(rot, np.matmul(lamb, rot.transpose()))\n",
    "c = np.random.multivariate_normal(m,s,100)"
   ]
  },
  {
   "cell_type": "code",
   "execution_count": 3,
   "metadata": {
    "ExecuteTime": {
     "end_time": "2020-11-01T14:39:34.621035Z",
     "start_time": "2020-11-01T14:39:34.607449Z"
    }
   },
   "outputs": [
    {
     "data": {
      "text/plain": [
       "(100, 2)"
      ]
     },
     "execution_count": 3,
     "metadata": {},
     "output_type": "execute_result"
    }
   ],
   "source": [
    "c.shape"
   ]
  },
  {
   "cell_type": "markdown",
   "metadata": {},
   "source": [
    "We plot the 100 points on a graph."
   ]
  },
  {
   "cell_type": "code",
   "execution_count": 4,
   "metadata": {
    "ExecuteTime": {
     "end_time": "2020-11-01T14:39:35.310831Z",
     "start_time": "2020-11-01T14:39:34.993279Z"
    }
   },
   "outputs": [
    {
     "data": {
      "image/png": "[encoded data removed]",
      "text/plain": [
       "<Figure size 432x288 with 1 Axes>"
      ]
     },
     "metadata": {
      "needs_background": "light"
     },
     "output_type": "display_data"
    }
   ],
   "source": [
    "plt.plot(c[:,0], c[:,1], 'b.')\n",
    "plt.title(\"A set of points without outliers\")\n",
    "plt.show()"
   ]
  },
  {
   "cell_type": "markdown",
   "metadata": {},
   "source": [
    "We create the appropriate functions. <br>\n",
    "- y_hat corresponds to the fitting line <br>\n",
    "- lse corresponds to the square error of a single point <br>\n",
    "- Q corresponds to the least square errors function. It is the sum of all the square errors, divided by two. This is the function we want to minimize. <br>\n",
    "- gradQ corresponds to the Q gradient, so it is calculated by deriving the Q function."
   ]
  },
  {
   "cell_type": "code",
   "execution_count": 5,
   "metadata": {
    "ExecuteTime": {
     "end_time": "2020-11-01T14:40:25.994687Z",
     "start_time": "2020-11-01T14:40:25.988159Z"
    }
   },
   "outputs": [],
   "source": [
    "def y_hat(w, x):\n",
    "    return w[0]*x+w[1]\n",
    "\n",
    "def lse(w, x, y):\n",
    "    return (y_hat(w,x)-y)**2\n",
    "\n",
    "def Q(w, x, y):\n",
    "    return (1/2)*sum([lse(w, xi, yi) for xi, yi in zip(x, y)])"
   ]
  },
  {
   "cell_type": "code",
   "execution_count": 6,
   "metadata": {
    "ExecuteTime": {
     "end_time": "2020-11-01T14:40:26.370945Z",
     "start_time": "2020-11-01T14:40:26.363963Z"
    }
   },
   "outputs": [],
   "source": [
    "def gradQ(w, x, y):\n",
    "    dQw0 = sum([(w[0]*xi + w[1] - yi)*xi for xi, yi in zip(x, y)])\n",
    "    dQw1 = sum([(w[0]*xi + w[1] - yi) for xi, yi in zip(x, y)])\n",
    "    return np.array([dQw0, dQw1])"
   ]
  },
  {
   "cell_type": "markdown",
   "metadata": {},
   "source": [
    "We create now the gradient descent function. We decide to use a random starting w value.<br>\n",
    "We use a backtracking for alpha. As stop conditions, we pay attention to : \n",
    "1. The difference between the least square errors function of the previous w value, and the least square errors function of the current w value. When this difference is low enough (under 10e-4), it means that the minimum is reached.\n",
    "2. The value of the Q gradient. When this value is really low (under 10e-5), it means that the minimum is reached."
   ]
  },
  {
   "cell_type": "code",
   "execution_count": 7,
   "metadata": {
    "ExecuteTime": {
     "end_time": "2020-11-01T14:41:48.039979Z",
     "start_time": "2020-11-01T14:41:48.025324Z"
    }
   },
   "outputs": [],
   "source": [
    "def grad_desc(x, y, alpha, max_iters):\n",
    "    w0 = np.random.randn(2)\n",
    "    for it in range(max_iters):\n",
    "\n",
    "        # alpha-backtracking\n",
    "        w = w0 - alpha*gradQ(w0, x, y)\n",
    "        \n",
    "        while(Q(w, x, y) > Q(w0, x, y)):\n",
    "            alpha = alpha/2\n",
    "            w = w0 - alpha*gradQ(w, x, y)\n",
    "            \n",
    "        #print(it, Q(w, x, y))\n",
    "        \n",
    "        if(np.abs(Q(w, x, y) - Q(w0, x, y)) < 10e-4) | (np.linalg.norm(gradQ(w, x, y)) < 10e-5):\n",
    "            print(\"Number of iterations: \"+str(it))\n",
    "            print(\"Values of w: \"+str(w[0])+\", \"+str(w[1]))\n",
    "            break\n",
    "        w0 = w \n",
    "        \n",
    "    return w0"
   ]
  },
  {
   "cell_type": "code",
   "execution_count": 8,
   "metadata": {
    "ExecuteTime": {
     "end_time": "2020-11-01T14:43:21.012800Z",
     "start_time": "2020-11-01T14:41:49.037318Z"
    }
   },
   "outputs": [
    {
     "name": "stdout",
     "output_type": "stream",
     "text": [
      "Number of iterations: 36985\n",
      "Values of w: 0.9536957064163735, 0.08836495877911572\n"
     ]
    },
    {
     "data": {
      "text/plain": [
       "Text(0.5, 1.0, 'Regression without outliers')"
      ]
     },
     "execution_count": 8,
     "metadata": {},
     "output_type": "execute_result"
    },
    {
     "data": {
      "image/png": "[encoded data removed]",
      "text/plain": [
       "<Figure size 432x288 with 1 Axes>"
      ]
     },
     "metadata": {
      "needs_background": "light"
     },
     "output_type": "display_data"
    }
   ],
   "source": [
    "alpha = 1\n",
    "max_iters = 100000\n",
    "\n",
    "x, y = c[:, 0], c[:, 1]\n",
    "plt.plot(x, y, 'b.')\n",
    "w = grad_desc(x, y, alpha, max_iters)\n",
    "plt.plot(x, [w[0]*xi + w[1] for xi in x], 'r')\n",
    "plt.title(\"Regression without outliers\")"
   ]
  },
  {
   "cell_type": "markdown",
   "metadata": {},
   "source": [
    "We can see in this result that the line fits the set of data points well. We can even check what the coefficients of this line are, and it corresponds to the 45° angle we used for the random generation of the points. Indeed, an 45° slope means that the leading coefficient is equal to 1. Here, the leading coefficient is w[0], which is really close to 1. <br>\n",
    "We can also notice that this algorithm is pretty long, because it requires approximatively 40000 iterations. <br>"
   ]
  },
  {
   "cell_type": "markdown",
   "metadata": {},
   "source": [
    "### 2. With Outliers"
   ]
  },
  {
   "cell_type": "markdown",
   "metadata": {},
   "source": [
    "Now, we try to use the same algorithm but with a non-coherent point. We duplicate c in order to create the array c_out. And then we modify the first point of this new array. Its value is now (-40, 20). This point doesn't correspond at all to the other ones, and we will analyse how well the algorithm deal with this value."
   ]
  },
  {
   "cell_type": "code",
   "execution_count": 9,
   "metadata": {
    "ExecuteTime": {
     "end_time": "2020-11-01T14:57:52.720230Z",
     "start_time": "2020-11-01T14:57:35.728181Z"
    }
   },
   "outputs": [
    {
     "name": "stdout",
     "output_type": "stream",
     "text": [
      "Number of iterations: 6971\n",
      "Values of w: 0.720786899057471, 0.010471974559015313\n"
     ]
    },
    {
     "data": {
      "text/plain": [
       "Text(0.5, 1.0, 'Regression without outliers')"
      ]
     },
     "execution_count": 9,
     "metadata": {},
     "output_type": "execute_result"
    },
    {
     "data": {
      "image/png": "[encoded data removed]",
      "text/plain": [
       "<Figure size 432x288 with 1 Axes>"
      ]
     },
     "metadata": {
      "needs_background": "light"
     },
     "output_type": "display_data"
    }
   ],
   "source": [
    "c_out = c.copy()\n",
    "c_out[0]=[-40, 20]\n",
    "\n",
    "x, y = c_out[:, 0], c_out[:, 1]\n",
    "plt.plot(x, y, 'b.')\n",
    "w = grad_desc(x, y, alpha, max_iters)\n",
    "plt.plot(x, [w[0]*xi + w[1] for xi in x], 'r')\n",
    "plt.title(\"Regression without outliers\")"
   ]
  },
  {
   "cell_type": "markdown",
   "metadata": {},
   "source": [
    "We can see now that the linear regression doesn't work well anymore. This leading coefficient is now far from 1, and we even visually see that the line doesn't correspond to the set of points. <br>\n",
    "This is logical because, when the Q gradient is calculated, the outliers value is taken into account in the errors sum. This value is very far from the other ones, which means that the square error will be important and then have a big impact in this calculus.<br>\n",
    "This is the reason why, in order to minimize the vertical distance with all of the points, the line is much more \"horizontal\" than what it is supposed to be."
   ]
  },
  {
   "cell_type": "markdown",
   "metadata": {},
   "source": [
    "## Cauchy"
   ]
  },
  {
   "cell_type": "markdown",
   "metadata": {},
   "source": [
    "In order to avoid the problem of outliers points, we will now modify our algorithm with the Cauchy function."
   ]
  },
  {
   "cell_type": "markdown",
   "metadata": {},
   "source": [
    "## 1."
   ]
  },
  {
   "cell_type": "markdown",
   "metadata": {},
   "source": [
    "We can resume the least square function as $\\sum_{i=1}^m \\frac{1}{2}(e_i)$\n",
    "\n",
    "This can also be written as $\\sum_{i=1}^m \\rho(e_i)$\n",
    "with $\\rho(u) = \\frac{1}{2}(u)$ <br>\n",
    "\n",
    "However, here, we are going to use another function for  $\\rho(u)$ which is  $\\rho(u) = \\frac{1}{2}log[1+u^2]$ <br>\n",
    "This function called the Cauchy function is supposed to be more robust than the simple least squares function we were using. Therefore, this should allows us not to be to much influenced by the outliers values."
   ]
  },
  {
   "cell_type": "code",
   "execution_count": 10,
   "metadata": {
    "ExecuteTime": {
     "end_time": "2020-11-01T14:59:35.913661Z",
     "start_time": "2020-11-01T14:59:35.909369Z"
    }
   },
   "outputs": [],
   "source": [
    "u=np.linspace(-10,10,100)"
   ]
  },
  {
   "cell_type": "code",
   "execution_count": 11,
   "metadata": {
    "ExecuteTime": {
     "end_time": "2020-11-01T14:59:42.684065Z",
     "start_time": "2020-11-01T14:59:42.677081Z"
    }
   },
   "outputs": [],
   "source": [
    "def leastsquares(u):\n",
    "    x=u\n",
    "    y=.5*u**2\n",
    "    return x,y\n",
    "\n",
    "def cauchy(u):\n",
    "    x=u\n",
    "    y=.5*np.log(1+u**2)\n",
    "    return x,y"
   ]
  },
  {
   "cell_type": "code",
   "execution_count": 13,
   "metadata": {
    "ExecuteTime": {
     "end_time": "2020-11-01T15:07:42.768718Z",
     "start_time": "2020-11-01T15:07:42.007409Z"
    },
    "scrolled": true
   },
   "outputs": [
    {
     "data": {
      "text/plain": [
       "[<matplotlib.lines.Line2D at 0x2567d0ff5f8>]"
      ]
     },
     "execution_count": 13,
     "metadata": {},
     "output_type": "execute_result"
    },
    {
     "data": {
      "image/png": "[encoded data removed]",
      "text/plain": [
       "<Figure size 1440x360 with 3 Axes>"
      ]
     },
     "metadata": {
      "needs_background": "light"
     },
     "output_type": "display_data"
    }
   ],
   "source": [
    "fig, (ax1, ax2, ax3) = plt.subplots(1, 3,figsize = (20, 5))\n",
    "ax1.plot(leastsquares(u)[0], leastsquares(u)[1], 'r.')\n",
    "ax1.set_title(\"Least Squares\")\n",
    "\n",
    "ax2.plot(cauchy(u)[0], cauchy(u)[1], 'b.')\n",
    "ax2.set_title(\"Cauchy\")\n",
    "\n",
    "ax3.plot(leastsquares(u)[0], leastsquares(u)[1], 'r.')\n",
    "ax3.plot(cauchy(u)[0], cauchy(u)[1], 'b.')"
   ]
  },
  {
   "cell_type": "markdown",
   "metadata": {},
   "source": [
    "We can already see that the Cauchy seems less easily impactable by the outliers values. Indeed, the problem with the least squares function is that it is a second degree algorithm. This means that the big values will have a huge impact on the global calculus. This is a problem because, when we have a big value on the equation, it probably means that it is an outlier values, so it shouldn't be taken to much into consideration.<br>\n",
    "On the contrary, the Cauchy function, which can also find the same solution as the least squares function, is a logarithmic function, which means that it gives much less importance to the big values. So this seems appropriate for our calculus: the outliers values will result in high errors but won't have a big impact on the algorithm.<br><br>\n",
    "For example, let's calculate what would be the impact of the outlier value c1=(-40,20) with the least squares errors function and with the Cauchy function. <br>\n",
    "In our first example, the leading coefficient is supposed to be 1, which means that the error u would be: $u = |1*(-40) - 20| = 60$<br><br>\n",
    "Then, with the lsef, the impact of this single point would be: $\\rho(60) = 1800$. <br>\n",
    "On the contrary, with the Cauchy function, the impact of this point would be: $\\rho(60) \\approx 4$. <br><br>\n",
    "We can then easily see that with the lse, it would have a huge impact on the sum calculus, whereas it's not the case with the Cauchy function."
   ]
  },
  {
   "cell_type": "markdown",
   "metadata": {},
   "source": [
    "## 2."
   ]
  },
  {
   "cell_type": "markdown",
   "metadata": {},
   "source": [
    "We were for the moment using a simplified form of the Cauchy function. The complete function is: <br>\n",
    "$\\rho(u) = \\frac{c^2}{2}log\\Bigl[1+\\Bigl(\\frac{u}{c}\\Bigr)^2\\Bigr]$<br>\n",
    "with $c=1$ for the moment. The $c$ value will change later, so we also put it as a parameter of the function."
   ]
  },
  {
   "cell_type": "code",
   "execution_count": 14,
   "metadata": {
    "ExecuteTime": {
     "end_time": "2020-11-01T15:14:55.734971Z",
     "start_time": "2020-11-01T15:14:55.726993Z"
    }
   },
   "outputs": [],
   "source": [
    "def y_hat(w, x):\n",
    "    return w[0]*x+w[1]\n",
    "\n",
    "def lse(c, w, x, y):\n",
    "    return (c**2/2)*np.log(1+((y_hat(w,x)-y)/c)**2)\n",
    "\n",
    "def Q(c, w, x, y):\n",
    "    return ((c**2)/2)*sum([lse(c, w, xi, yi) for xi, yi in zip(x, y)])"
   ]
  },
  {
   "cell_type": "code",
   "execution_count": 15,
   "metadata": {
    "ExecuteTime": {
     "end_time": "2020-11-01T15:14:56.201852Z",
     "start_time": "2020-11-01T15:14:56.194807Z"
    }
   },
   "outputs": [],
   "source": [
    "def gradQ(c, w, x, y):\n",
    "    dQw0 = (c**2)*sum([(xi*(w[0]*xi + w[1] - yi))/((w[0]*xi + w[1] - yi)**2+(c**2)) for xi, yi in zip(x, y)])\n",
    "    dQw1 = (c**2)*sum([(w[0]*xi + w[1] - yi)/((w[0]*xi + w[1] - yi)**2+(c**2)) for xi, yi in zip(x, y)])\n",
    "    return np.array([dQw0, dQw1])"
   ]
  },
  {
   "cell_type": "code",
   "execution_count": 17,
   "metadata": {
    "ExecuteTime": {
     "end_time": "2020-11-01T15:15:16.716040Z",
     "start_time": "2020-11-01T15:15:16.708058Z"
    }
   },
   "outputs": [],
   "source": [
    "def grad_desc(c, x, y, alpha, max_iters):\n",
    "    w0 = np.random.randn(2)\n",
    "    \n",
    "    for it in range(max_iters):\n",
    "\n",
    "        # alpha-backtracking\n",
    "        w = w0 - alpha*gradQ(c, w0, x, y)\n",
    "        \n",
    "        while(Q(c, w, x, y) > Q(c, w0, x, y)):\n",
    "            alpha = alpha/2\n",
    "            w = w0 - alpha*gradQ(c, w, x, y)\n",
    "        \n",
    "        if(np.abs(Q(c, w, x, y) - Q(c, w0, x, y)) < 10e-4) | (np.linalg.norm(gradQ(c, w, x, y)) < 10e-5):\n",
    "            print(\"Number of iterations: \"+str(it))\n",
    "            print(\"Values of w: \"+str(w[0])+\", \"+str(w[1]))\n",
    "            break\n",
    "        w0 = w \n",
    "        \n",
    "    return w0"
   ]
  },
  {
   "cell_type": "markdown",
   "metadata": {},
   "source": [
    "## 3."
   ]
  },
  {
   "cell_type": "markdown",
   "metadata": {},
   "source": [
    "Now, we try the Cauchy function without any outliers for the moment. The $c$ value is 1."
   ]
  },
  {
   "cell_type": "code",
   "execution_count": 18,
   "metadata": {
    "ExecuteTime": {
     "end_time": "2020-11-01T15:15:36.163861Z",
     "start_time": "2020-11-01T15:15:33.028117Z"
    }
   },
   "outputs": [
    {
     "name": "stdout",
     "output_type": "stream",
     "text": [
      "Number of iterations: 399\n",
      "Values of w: 0.9789000692661326, -0.3199776888798188\n"
     ]
    },
    {
     "data": {
      "text/plain": [
       "Text(0.5, 1.0, 'Cauchy without outliers')"
      ]
     },
     "execution_count": 18,
     "metadata": {},
     "output_type": "execute_result"
    },
    {
     "data": {
      "image/png": "[encoded data removed]",
      "text/plain": [
       "<Figure size 432x288 with 1 Axes>"
      ]
     },
     "metadata": {
      "needs_background": "light"
     },
     "output_type": "display_data"
    }
   ],
   "source": [
    "alpha = 1\n",
    "max_iters = 100000\n",
    "c1=1\n",
    "x, y = c[:, 0], c[:, 1]\n",
    "plt.plot(x, y, 'b.')\n",
    "w = grad_desc(c1, x, y, alpha, max_iters)\n",
    "plt.plot(x, [w[0]*xi + w[1] for xi in x], 'r')\n",
    "plt.title(\"Cauchy without outliers\")"
   ]
  },
  {
   "cell_type": "markdown",
   "metadata": {},
   "source": [
    "We can see that the Cauchy function is very efficient here, in the situation without any outliers. The leading coefficient is even more close to 1 than what it was with the least squares method. <br>\n",
    "We can also notice that this new algorithm is much faster, because it only needs between 300 and 400 iterations to reach the solution, whereas the least squares method required at least 30000 iterations."
   ]
  },
  {
   "cell_type": "markdown",
   "metadata": {},
   "source": [
    "## 4."
   ]
  },
  {
   "cell_type": "markdown",
   "metadata": {},
   "source": [
    "We can now try the algorithm with an outlier value. So we use the c_out array, containing one \"wrong\" value. "
   ]
  },
  {
   "cell_type": "code",
   "execution_count": 19,
   "metadata": {
    "ExecuteTime": {
     "end_time": "2020-11-01T15:16:10.877448Z",
     "start_time": "2020-11-01T15:16:10.062271Z"
    }
   },
   "outputs": [
    {
     "name": "stdout",
     "output_type": "stream",
     "text": [
      "Number of iterations: 74\n",
      "Values of w: 0.9790407588426471, -0.30111966442019167\n"
     ]
    },
    {
     "data": {
      "text/plain": [
       "Text(0.5, 1.0, 'Cauchy with outliers')"
      ]
     },
     "execution_count": 19,
     "metadata": {},
     "output_type": "execute_result"
    },
    {
     "data": {
      "image/png": "[encoded data removed]",
      "text/plain": [
       "<Figure size 432x288 with 1 Axes>"
      ]
     },
     "metadata": {
      "needs_background": "light"
     },
     "output_type": "display_data"
    }
   ],
   "source": [
    "x, y = c_out[:, 0], c_out[:, 1]\n",
    "plt.plot(x, y, 'b.')\n",
    "w = grad_desc(c1, x, y, alpha, max_iters)\n",
    "plt.plot(x, [w[0]*xi + w[1] for xi in x], 'r')\n",
    "plt.title(\"Cauchy with outliers\")"
   ]
  },
  {
   "cell_type": "markdown",
   "metadata": {},
   "source": [
    "We can notice that the result doesn't change a lot, compared to the one without any outlier. The leading coefficient is a little bit further from 1, but it still closer than with the first method (using lse error funtion). The number of iterations is also a little bit higher, but it is still approximatively the same, and then it is again still 100 times better than with the first method. \n",
    "\n",
    "Comparing this to the squared error function we see the benefits of using the cauchy robust function in that it is able to facilitate outliers."
   ]
  },
  {
   "cell_type": "markdown",
   "metadata": {},
   "source": [
    "## 5."
   ]
  },
  {
   "cell_type": "markdown",
   "metadata": {},
   "source": [
    "For the moment, the $c$ value in the function $\\rho(u) = \\frac{c^2}{2}log\\Bigl[1+\\Bigl(\\frac{u}{c}\\Bigr)^2\\Bigr]$ was always 1. We can now try different values, such as 100 and 1/100. "
   ]
  },
  {
   "cell_type": "code",
   "execution_count": 20,
   "metadata": {
    "ExecuteTime": {
     "end_time": "2020-11-01T15:18:46.320562Z",
     "start_time": "2020-11-01T15:18:37.182390Z"
    }
   },
   "outputs": [
    {
     "name": "stdout",
     "output_type": "stream",
     "text": [
      "Number of iterations: 157\n",
      "Values of w: 0.976223227706208, -0.07904517965364408\n",
      "Number of iterations: 1095\n",
      "Values of w: 0.995538808613549, 0.07910107061644708\n",
      "Number of iterations: 0\n",
      "Values of w: -0.5379427313503331, 1.1109994155331722\n"
     ]
    },
    {
     "data": {
      "image/png": "[encoded data removed]",
      "text/plain": [
       "<Figure size 1440x360 with 3 Axes>"
      ]
     },
     "metadata": {
      "needs_background": "light"
     },
     "output_type": "display_data"
    }
   ],
   "source": [
    "c1=np.array([1,100,1/100])\n",
    "\n",
    "fig = plt.figure(figsize=(20,5))\n",
    "\n",
    "num_plots = 3\n",
    "base = 100 + num_plots * 10\n",
    "\n",
    "for i in range(num_plots):\n",
    "    c1_new=c1[i]\n",
    "    ax = fig.add_subplot(base+(1+i))\n",
    "    x, y = c[:, 0], c[:, 1]\n",
    "    ax.plot(x, y, 'b.')\n",
    "    w = grad_desc(c1_new, x, y, alpha, max_iters)\n",
    "    ax.plot(x, [w[0]*xi + w[1] for xi in x], 'r')\n",
    "    ax.set_title(\"Cauchy without outliers & c=(%.2f)\" % c1_new)\n"
   ]
  },
  {
   "cell_type": "markdown",
   "metadata": {},
   "source": [
    "##### First diagram\n",
    "This is the situation we already experimented, with $c=1$.<br>\n",
    "##### Second diagram\n",
    "This is the situation with $c=100$.<br>\n",
    "It's interesting to see here that the result is a little bit more precise, because the leading coefficient of the line is closer to 1 (0.98 instead of 0.96). However, this requires in average 10 times more iterations than with $c=1$. This is because a small error now impacts more the error function and so it is a bit more difficult to converge, but at the same time you get a better result.<br>\n",
    "##### Third diagram\n",
    "This is the situation with $c=0.01$.<br>\n",
    "Here, the algorithm doesn't work at all because it stops at the first iteration. The result, then, is totaly random.<br>\n",
    "The reason for that is the first stop condition: $(np.abs(Q(c, w, x, y) - Q(c, w0, x, y)) < 10e-4)$<br>\n",
    "Indeed, the Q values obtained with $c=0.01$ are much smaller than the ones obtained with $c=1$. Therefore, the difference between two of these values is always under $10e-4$.<br>\n",
    "\n",
    "So we can affirm that the c value determines how perfectionist we would like to be. "
   ]
  },
  {
   "cell_type": "markdown",
   "metadata": {},
   "source": [
    "## 6."
   ]
  },
  {
   "cell_type": "markdown",
   "metadata": {},
   "source": [
    "We will now try to determinate how many outliers values the algorithm can support without having problems. <br>\n",
    "After having tried with different values, we finally notice that 39 outliers is the maximum number of outliers that the algorithm can support.<br>\n",
    "As you can see below, we run the algorithm with 39 outliers and then with 40 outliers."
   ]
  },
  {
   "cell_type": "code",
   "execution_count": 48,
   "metadata": {
    "ExecuteTime": {
     "end_time": "2020-11-01T15:33:18.101203Z",
     "start_time": "2020-11-01T15:33:16.772469Z"
    }
   },
   "outputs": [
    {
     "name": "stdout",
     "output_type": "stream",
     "text": [
      "Number of iterations: 143\n",
      "Values of w: 0.9653301994213734, -0.05116316960088543\n"
     ]
    },
    {
     "data": {
      "text/plain": [
       "Text(0.5, 1.0, 'Cauchy with 39 outliers')"
      ]
     },
     "execution_count": 48,
     "metadata": {},
     "output_type": "execute_result"
    },
    {
     "data": {
      "image/png": "[encoded data removed]",
      "text/plain": [
       "<Figure size 432x288 with 1 Axes>"
      ]
     },
     "metadata": {
      "needs_background": "light"
     },
     "output_type": "display_data"
    }
   ],
   "source": [
    "c1=1\n",
    "c_out_5 = c.copy()\n",
    "x = np.random.randint(-100, -60, 39)\n",
    "y = np.random.randint(40, 100, 39)\n",
    "c_new=np.column_stack((x, y))\n",
    "c_out_5[:39]=c_new\n",
    "\n",
    "x, y = c_out_5[:, 0], c_out_5[:, 1]\n",
    "plt.plot(x, y, 'b.')\n",
    "w = grad_desc(c1, x, y, alpha, max_iters)\n",
    "plt.plot(x, [w[0]*xi + w[1] for xi in x], 'r')\n",
    "plt.title(\"Cauchy with 39 outliers\")"
   ]
  },
  {
   "cell_type": "code",
   "execution_count": 49,
   "metadata": {
    "ExecuteTime": {
     "end_time": "2020-11-01T15:33:34.517133Z",
     "start_time": "2020-11-01T15:33:34.135655Z"
    }
   },
   "outputs": [
    {
     "name": "stdout",
     "output_type": "stream",
     "text": [
      "Number of iterations: 7\n",
      "Values of w: -0.7926243460513547, -1.1687113369034756\n"
     ]
    },
    {
     "data": {
      "text/plain": [
       "Text(0.5, 1.0, 'Cauchy with 40 outliers')"
      ]
     },
     "execution_count": 49,
     "metadata": {},
     "output_type": "execute_result"
    },
    {
     "data": {
      "image/png": "[encoded data removed]",
      "text/plain": [
       "<Figure size 432x288 with 1 Axes>"
      ]
     },
     "metadata": {
      "needs_background": "light"
     },
     "output_type": "display_data"
    }
   ],
   "source": [
    "c_out_15 = c.copy()\n",
    "x = np.random.randint(-100, -60, 40)\n",
    "y = np.random.randint(40, 100,40)\n",
    "c_new=np.column_stack((x, y))\n",
    "c_out_15[:40]=c_new\n",
    "\n",
    "x, y = c_out_15[:, 0], c_out_15[:, 1]\n",
    "plt.plot(x, y, 'b.')\n",
    "w = grad_desc(c1, x, y, alpha, max_iters)\n",
    "plt.plot(x, [w[0]*xi + w[1] for xi in x], 'r')\n",
    "plt.title(\"Cauchy with 40 outliers\")"
   ]
  },
  {
   "cell_type": "markdown",
   "metadata": {},
   "source": [
    "It is now interesing to see that, with 39 outliers, the algorithm still works. However, with 40 outliers values, it seems that the line is not correct and is more concerned about the outliers than about the \"regular\" points.<br>\n",
    "There are 100 points in the array, 40 outliers and 60 normal ones. With this composition the Cauchy is no longer robust for outliers indicating there exists a treshold for which the Cauchy functions correctly. It"
   ]
  },
  {
   "cell_type": "code",
   "execution_count": null,
   "metadata": {},
   "outputs": [],
   "source": []
  }
 ],
 "metadata": {
  "kernelspec": {
   "display_name": "Python 3",
   "language": "python",
   "name": "python3"
  },
  "language_info": {
   "codemirror_mode": {
    "name": "ipython",
    "version": 3
   },
   "file_extension": ".py",
   "mimetype": "text/x-python",
   "name": "python",
   "nbconvert_exporter": "python",
   "pygments_lexer": "ipython3",
   "version": "3.7.3"
  }
 },
 "nbformat": 4,
 "nbformat_minor": 4
}
