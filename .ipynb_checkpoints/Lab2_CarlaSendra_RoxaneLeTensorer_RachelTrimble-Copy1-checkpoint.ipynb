{
 "cells": [
  {
   "cell_type": "markdown",
   "metadata": {},
   "source": [
    "# Lab3: Constrained optimization: equality constraints\n",
    "\n",
    "**Carla Sendra Balcells**\\\n",
    "**Roxane Le Tensorer**\\\n",
    "**Rachel Trimble**"
   ]
  },
  {
   "cell_type": "code",
   "execution_count": 1,
   "metadata": {
    "ExecuteTime": {
     "end_time": "2020-11-09T23:06:50.685972Z",
     "start_time": "2020-11-09T23:06:50.485870Z"
    }
   },
   "outputs": [],
   "source": [
    "import numpy as np"
   ]
  },
  {
   "cell_type": "code",
   "execution_count": 2,
   "metadata": {
    "ExecuteTime": {
     "end_time": "2020-11-09T23:06:50.811644Z",
     "start_time": "2020-11-09T23:06:50.805961Z"
    }
   },
   "outputs": [],
   "source": [
    "def f(x):\n",
    "    return np.exp(3*x[0])+np.exp(-4*x[1])\n",
    "\n",
    "\n",
    "def h(x):\n",
    "    return x[0]**2+x[1]**2-1"
   ]
  },
  {
   "cell_type": "code",
   "execution_count": 3,
   "metadata": {
    "ExecuteTime": {
     "end_time": "2020-11-09T23:06:51.080714Z",
     "start_time": "2020-11-09T23:06:51.071814Z"
    }
   },
   "outputs": [],
   "source": [
    "def grad_f(x):\n",
    "    return np.array([3*np.exp(3*x[0]), -4*np.exp(-4*x[1])])\n",
    "\n",
    "\n",
    "def grad_h(x):\n",
    "    return np.array([2*x[0], 2*x[1]])"
   ]
  },
  {
   "cell_type": "code",
   "execution_count": 4,
   "metadata": {
    "ExecuteTime": {
     "end_time": "2020-11-09T23:06:51.357961Z",
     "start_time": "2020-11-09T23:06:51.353885Z"
    }
   },
   "outputs": [],
   "source": [
    "def grad_L(grad_f_, grad_h_, lambd):\n",
    "    return grad_f_ - lambd*grad_h_"
   ]
  },
  {
   "cell_type": "code",
   "execution_count": 5,
   "metadata": {
    "ExecuteTime": {
     "end_time": "2020-11-09T23:06:51.621386Z",
     "start_time": "2020-11-09T23:06:51.615402Z"
    }
   },
   "outputs": [],
   "source": [
    "def grad2_f(x):\n",
    "    return np.array([[9*np.exp(3*x[0]), 0], [0, 16*np.exp(-4*x[1])]])\n",
    "\n",
    "\n",
    "def grad2_h(x):\n",
    "    return np.array([[2, 0], [0, 2]])"
   ]
  },
  {
   "cell_type": "code",
   "execution_count": 6,
   "metadata": {
    "ExecuteTime": {
     "end_time": "2020-11-09T23:06:51.905741Z",
     "start_time": "2020-11-09T23:06:51.893699Z"
    }
   },
   "outputs": [],
   "source": [
    "def KKT(grad_L_, grad2_L_, grad_h_, h_):\n",
    "    n = grad2_L_.shape[0]\n",
    "    m = grad2_L_.shape[1]\n",
    "    \n",
    "    A = np.zeros((n+1, m+1))\n",
    "    A[:-1, :-1] = grad2_L_\n",
    "    A[:-1, -1] = -grad_h_.T\n",
    "    A[-1, :-1] = -grad_h_.T[0]\n",
    "    \n",
    "    b = np.zeros((n+1, 1))\n",
    "    b[:-1] = -grad_L_\n",
    "    b[-1, 0] = h_\n",
    "    \n",
    "    z = np.linalg.solve(A, b)\n",
    "    \n",
    "    return z"
   ]
  },
  {
   "cell_type": "code",
   "execution_count": 36,
   "metadata": {
    "ExecuteTime": {
     "end_time": "2020-11-09T23:22:57.930292Z",
     "start_time": "2020-11-09T23:22:57.919321Z"
    }
   },
   "outputs": [],
   "source": [
    "def main(x0, lambd0, alpha):\n",
    "    grad_f_ = grad_f(x0)\n",
    "\n",
    "    grad_h_ = grad_h(x0)\n",
    "    grad_L_ = grad_L(grad_f_, grad_h_, lambd0)\n",
    "\n",
    "    while np.linalg.norm(grad_L_, 2) > 10e-14:\n",
    "        grad_h_ = grad_h(x0)\n",
    "        h_ = h(x0)\n",
    "        grad2_h_ = grad2_h(x0)\n",
    "\n",
    "        grad_f_ = grad_f(x0)\n",
    "        grad2_f_ = grad2_f(x0)\n",
    "\n",
    "        grad_L_ = grad_L(grad_f_, grad_h_, lambd0)\n",
    "        grad2_L_ = grad_L(grad2_f_, grad2_h_, lambd0)\n",
    "\n",
    "        z = KKT(grad_L_, grad2_L_, grad_h_, h_)\n",
    "\n",
    "        x = x0 + alpha*z[:-1]\n",
    "        lambd = lambd0 + alpha*z[-1]\n",
    "        \n",
    "        x0 = x\n",
    "        lambd0 = lambd\n",
    "    return x0, lambd0"
   ]
  },
  {
   "cell_type": "code",
   "execution_count": 37,
   "metadata": {
    "ExecuteTime": {
     "end_time": "2020-11-09T23:23:00.663328Z",
     "start_time": "2020-11-09T23:23:00.652402Z"
    }
   },
   "outputs": [
    {
     "data": {
      "text/plain": [
       "(array([[-0.74833549],\n",
       "        [ 0.66332043]]),\n",
       " array([-0.21232494]))"
      ]
     },
     "execution_count": 37,
     "metadata": {},
     "output_type": "execute_result"
    }
   ],
   "source": [
    "x0 = np.array([[-1],[1]])\n",
    "lambd0 = -1\n",
    "alpha = 1\n",
    "\n",
    "main(x0, lambd, alpha)"
   ]
  },
  {
   "cell_type": "code",
   "execution_count": null,
   "metadata": {},
   "outputs": [],
   "source": []
  }
 ],
 "metadata": {
  "kernelspec": {
   "display_name": "Python 3",
   "language": "python",
   "name": "python3"
  },
  "language_info": {
   "codemirror_mode": {
    "name": "ipython",
    "version": 3
   },
   "file_extension": ".py",
   "mimetype": "text/x-python",
   "name": "python",
   "nbconvert_exporter": "python",
   "pygments_lexer": "ipython3",
   "version": "3.7.3"
  }
 },
 "nbformat": 4,
 "nbformat_minor": 4
}
