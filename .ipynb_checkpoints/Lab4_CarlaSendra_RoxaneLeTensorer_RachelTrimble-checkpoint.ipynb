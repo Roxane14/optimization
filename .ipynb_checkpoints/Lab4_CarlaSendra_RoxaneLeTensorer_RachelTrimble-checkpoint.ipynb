{
 "cells": [
  {
   "cell_type": "markdown",
   "metadata": {},
   "source": [
    "# Lab4: Constrained optimization: equality and inequality constraints\n",
    "\n",
    "**Carla Sendra Balcells**\\\n",
    "**Roxane Le Tensorer**\\\n",
    "**Rachel Trimble**"
   ]
  },
  {
   "cell_type": "code",
   "execution_count": 1,
   "metadata": {
    "ExecuteTime": {
     "end_time": "2020-12-02T21:07:33.849905Z",
     "start_time": "2020-12-02T21:07:31.794397Z"
    }
   },
   "outputs": [],
   "source": [
    "import numpy as np\n",
    "import matplotlib.pyplot as plt\n",
    "from QPGC import *\n",
    "import tqdm"
   ]
  },
  {
   "cell_type": "markdown",
   "metadata": {},
   "source": [
    "The problem we want to solve is the following one:\\\n",
    "\n",
    "Minimize $f(\\alpha)=\\sum_{i=1}^{m} -\\alpha_i + \\dfrac{1}{2} \\alpha^T(YX^T XY)\\alpha  $<br>\n",
    "Subject to $\\sum_{i=1}^{m} y_i \\alpha_i = 0 \\;\\;\\;,\\;\\;\\;0 \\leq \\alpha_i \\leq K $<br>\n",
    "\n",
    "But we will try to convert it to this notation:\n",
    "\n",
    "Minimize $f(x)=\\dfrac{1}{2} x^T G x  $<br>\n",
    "Subject to $A^T x=b \\;\\;\\;,\\;\\;\\;C^T x \\geq d$<br>\n",
    "\n",
    "So, we could define:\n",
    "\n",
    "$G = Y X^T XY$\\\n",
    "$x = \\alpha$\\\n",
    "$g^T = -[1,1,...n]$\\\n",
    "$A = y$\\\n",
    "$b = 0$\\\n",
    "$C = Id$\\\n",
    "$d = K$\n",
    "\n",
    "$G\\in R^{nxn}$,\n",
    "$x\\in R^{n}$,\n",
    "$g\\in R^{n}$,\n",
    "$A\\in R^{nxp}$,\n",
    "$C\\in R^{nxm}$,\n",
    "$b\\in R^{p}$,\n",
    "$d\\in R^{m}$, \n",
    "$Y\\in R^{nxn}$,\n",
    "$y\\in R^{n}$,\n",
    "$X\\in R^{mxn}$,\n",
    "$\\alpha \\in R^{n}$,\n",
    "$K \\in R^{m}$\n",
    "\n",
    "where n are the number of samples (n=200) and m the number of constraints (m=200x2), p=1. "
   ]
  },
  {
   "cell_type": "code",
   "execution_count": 32,
   "metadata": {
    "ExecuteTime": {
     "end_time": "2020-12-02T21:11:43.498058Z",
     "start_time": "2020-12-02T21:11:43.489639Z"
    }
   },
   "outputs": [],
   "source": [
    "def generate_dataset(N, separable=True):\n",
    "    m1 = [0, 0]\n",
    "    s1 = [[1, -0.9], [-0.9, 1]]\n",
    "    s2 = [[1, 0], [0, 1]]\n",
    "    if separable:\n",
    "        m2 = [3, 6]\n",
    "    else:\n",
    "        m2 = [1, 2]\n",
    "    cluster_1 = np.random.multivariate_normal(m1, s1, N)\n",
    "    cluster_2 = np.random.multivariate_normal(m2, s2, N)\n",
    "    X = np.concatenate([cluster_1, cluster_2]).T\n",
    "    Y = np.diag(np.concatenate([np.ones(cluster_1.shape[0]), -np.ones(cluster_2.shape[0])]))\n",
    "    return X, Y, cluster_1, cluster_2"
   ]
  },
  {
   "cell_type": "code",
   "execution_count": 33,
   "metadata": {
    "ExecuteTime": {
     "end_time": "2020-12-02T21:11:43.853218Z",
     "start_time": "2020-12-02T21:11:43.841282Z"
    }
   },
   "outputs": [],
   "source": [
    "def plot_both_clusters(N):\n",
    "    _, _, c1s, c2s = generate_dataset(N)\n",
    "    _, _, c1n, c2n = generate_dataset(N, separable=False)\n",
    "\n",
    "    fig = plt.figure(figsize=(12, 4))\n",
    "    ax = fig.add_subplot(121)\n",
    "    ax.plot(c1s[:, 0], c1s[:, 1], marker='o', linestyle='None', alpha=0.7)\n",
    "    ax.plot(c2s[:, 0], c2s[:, 1], marker='o',linestyle='None', alpha=0.7)\n",
    "    ax.set_title(\"Separable problem\")\n",
    "\n",
    "    ax = fig.add_subplot(122)\n",
    "    ax.plot(c1n[:, 0], c1n[:, 1], marker='o', linestyle='None', alpha=0.7)\n",
    "    ax.plot(c2n[:, 0], c2n[:, 1], marker='o',linestyle='None', alpha=0.7)\n",
    "    ax.set_title(\"Non-separable problem\")\n",
    "\n",
    "\n",
    "    plt.show()"
   ]
  },
  {
   "cell_type": "code",
   "execution_count": 34,
   "metadata": {
    "ExecuteTime": {
     "end_time": "2020-12-02T21:11:44.730616Z",
     "start_time": "2020-12-02T21:11:44.194090Z"
    }
   },
   "outputs": [
    {
     "data": {
      "image/png": "[encoded data removed]",
      "text/plain": [
       "<Figure size 864x288 with 2 Axes>"
      ]
     },
     "metadata": {
      "needs_background": "light"
     },
     "output_type": "display_data"
    }
   ],
   "source": [
    "plot_both_clusters(100)"
   ]
  },
  {
   "cell_type": "code",
   "execution_count": 35,
   "metadata": {
    "ExecuteTime": {
     "end_time": "2020-12-02T21:11:44.749567Z",
     "start_time": "2020-12-02T21:11:44.735604Z"
    }
   },
   "outputs": [
    {
     "data": {
      "text/plain": [
       "((2, 200), (200, 200), (100, 2), (100, 2))"
      ]
     },
     "execution_count": 35,
     "metadata": {},
     "output_type": "execute_result"
    }
   ],
   "source": [
    "#separable\n",
    "N=100\n",
    "X, Y, cluster1, cluster2 = generate_dataset(N)\n",
    "X.shape, Y.shape, cluster1.shape, cluster2.shape"
   ]
  },
  {
   "cell_type": "code",
   "execution_count": 38,
   "metadata": {
    "ExecuteTime": {
     "end_time": "2020-12-02T21:12:01.593701Z",
     "start_time": "2020-12-02T21:12:01.585741Z"
    }
   },
   "outputs": [],
   "source": [
    "def param(X, Y, K=1):\n",
    "    n = X.shape[1]\n",
    "    m = 2*n\n",
    "    \n",
    "    G = np.dot(np.dot(np.dot(Y,X.T),X),Y)\n",
    "    g = -np.ones(n)\n",
    "    A = np.expand_dims(np.diag(Y), axis=0).T\n",
    "    b = np.zeros(1)\n",
    "    C = np.eye(n, m)\n",
    "    d = np.zeros(m)*K\n",
    "    \n",
    "    return G, g, A, C, b, d"
   ]
  },
  {
   "cell_type": "code",
   "execution_count": 39,
   "metadata": {
    "ExecuteTime": {
     "end_time": "2020-12-02T21:12:01.843949Z",
     "start_time": "2020-12-02T21:12:01.832215Z"
    }
   },
   "outputs": [
    {
     "data": {
      "text/plain": [
       "((200, 200), (200,), (200, 1), (200, 400), (1,), (400,))"
      ]
     },
     "execution_count": 39,
     "metadata": {},
     "output_type": "execute_result"
    }
   ],
   "source": [
    "G, g, A, C, b, d = param(X, Y, K=1)\n",
    "G.shape, g.shape, A.shape, C.shape, b.shape, d.shape"
   ]
  },
  {
   "cell_type": "markdown",
   "metadata": {},
   "source": [
    "$w = \\sum_{i=1}^m\\alpha_iy_ix_i$\\\n",
    "$b = \\frac{1}{y_j}-w^Tx_j$\n",
    "\n",
    "where $\\alpha \\in R^2$ and $b\\in R^1$\n",
    "\n",
    "Moreover, $x_j$ and $y_j$ are the ones with the $\\alpha$ that gets a higher minimization at $f(\\alpha)$, for this reason $\\alpha_j$ should be the one with a highest value. "
   ]
  },
  {
   "cell_type": "code",
   "execution_count": 47,
   "metadata": {
    "ExecuteTime": {
     "end_time": "2020-12-02T21:19:03.042780Z",
     "start_time": "2020-12-02T21:19:03.037790Z"
    }
   },
   "outputs": [],
   "source": [
    "def sol(X, Y, alpha):\n",
    "    w = np.dot(X,np.diag(alpha*Y))\n",
    "    j = np.argmax(alpha)\n",
    "    b = 1/Y[j,j]-np.dot(w,X[:,j])\n",
    "    return w,b"
   ]
  },
  {
   "cell_type": "code",
   "execution_count": 48,
   "metadata": {
    "ExecuteTime": {
     "end_time": "2020-12-02T21:19:03.337473Z",
     "start_time": "2020-12-02T21:19:03.329494Z"
    }
   },
   "outputs": [],
   "source": [
    "def plot_svm(cluster_1,cluster_2, w, b): \n",
    "\n",
    "    x_plot,y_plot = np.meshgrid(np.linspace(-5,7,100),np.linspace(-4,10,100))\n",
    "    mesh = np.c_[x_plot.ravel(),y_plot.ravel()]     \n",
    "    z = np.dot(mesh,w)+b\n",
    "        \n",
    "    plt.plot(cluster_1[:,0],cluster_1[:,1],color='c', marker='o', linestyle='None', alpha=0.7)\n",
    "    plt.plot(cluster_2[:,0],cluster_2[:,1],color='orange', marker='o',linestyle='None', alpha=0.7)\n",
    "    plt.contour(x_plot,y_plot,z.reshape((100,100)),[-1.,0.,1.])\n",
    "\n",
    "    plt.show()"
   ]
  },
  {
   "cell_type": "code",
   "execution_count": 49,
   "metadata": {
    "ExecuteTime": {
     "end_time": "2020-12-02T21:19:06.094551Z",
     "start_time": "2020-12-02T21:19:03.621106Z"
    }
   },
   "outputs": [
    {
     "data": {
      "image/png": "[encoded data removed]",
      "text/plain": [
       "<Figure size 432x288 with 1 Axes>"
      ]
     },
     "metadata": {
      "needs_background": "light"
     },
     "output_type": "display_data"
    },
    {
     "name": "stdout",
     "output_type": "stream",
     "text": [
      "w:[-0.31610862 -0.57031135] b:1.6800606168059735\n"
     ]
    }
   ],
   "source": [
    "K=1\n",
    "\n",
    "G, g, A, C, b, d = param(X, Y, K)\n",
    "alpha = QPGenericConstraints(G, g, A, C, b, d)\n",
    "\n",
    "w, b = sol(X, Y, alpha)\n",
    "\n",
    "plot_svm(cluster1, cluster2, w, b)\n",
    "print('w:'+str(w)+' b:'+str(b))"
   ]
  },
  {
   "cell_type": "code",
   "execution_count": null,
   "metadata": {},
   "outputs": [],
   "source": []
  },
  {
   "cell_type": "code",
   "execution_count": null,
   "metadata": {},
   "outputs": [],
   "source": []
  }
 ],
 "metadata": {
  "kernelspec": {
   "display_name": "Python 3",
   "language": "python",
   "name": "python3"
  },
  "language_info": {
   "codemirror_mode": {
    "name": "ipython",
    "version": 3
   },
   "file_extension": ".py",
   "mimetype": "text/x-python",
   "name": "python",
   "nbconvert_exporter": "python",
   "pygments_lexer": "ipython3",
   "version": "3.7.3"
  }
 },
 "nbformat": 4,
 "nbformat_minor": 4
}
