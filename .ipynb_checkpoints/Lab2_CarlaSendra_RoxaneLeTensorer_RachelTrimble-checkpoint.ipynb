{
 "cells": [
  {
   "cell_type": "markdown",
   "metadata": {},
   "source": [
    "# Lab2: Linear regression using robust functions\n",
    "\n",
    "**Carla Sendra Balcells**\\\n",
    "**Roxane Le Tensorer**\\\n",
    "**Rachel Trimble**"
   ]
  },
  {
   "cell_type": "markdown",
   "metadata": {},
   "source": [
    "## Gradient Descent"
   ]
  },
  {
   "cell_type": "markdown",
   "metadata": {},
   "source": [
    "### 1. Without Outliers"
   ]
  },
  {
   "cell_type": "code",
   "execution_count": 250,
   "metadata": {
    "ExecuteTime": {
     "end_time": "2020-10-26T20:30:08.075994Z",
     "start_time": "2020-10-26T20:30:08.072006Z"
    }
   },
   "outputs": [],
   "source": [
    "import numpy as np\n",
    "import math\n",
    "from matplotlib import pyplot as plt"
   ]
  },
  {
   "cell_type": "code",
   "execution_count": 251,
   "metadata": {
    "ExecuteTime": {
     "end_time": "2020-10-26T20:30:08.646805Z",
     "start_time": "2020-10-26T20:30:08.636178Z"
    }
   },
   "outputs": [],
   "source": [
    "m = [0.,0.]\n",
    "angle = 45*math.pi/180\n",
    "rot = np.array([[math.cos(angle), -math.sin(angle)], [math.sin(angle),\n",
    "math.cos(angle)]])\n",
    "lamb = np.array([[100,0],[0,1]])\n",
    "s = np.matmul(rot, np.matmul(lamb, rot.transpose()))\n",
    "c = np.random.multivariate_normal(m,s,100)"
   ]
  },
  {
   "cell_type": "code",
   "execution_count": 252,
   "metadata": {},
   "outputs": [
    {
     "data": {
      "text/plain": [
       "(100, 2)"
      ]
     },
     "execution_count": 252,
     "metadata": {},
     "output_type": "execute_result"
    }
   ],
   "source": [
    "c.shape"
   ]
  },
  {
   "cell_type": "code",
   "execution_count": 253,
   "metadata": {
    "ExecuteTime": {
     "end_time": "2020-10-26T20:30:09.423420Z",
     "start_time": "2020-10-26T20:30:09.139548Z"
    }
   },
   "outputs": [
    {
     "data": {
      "image/png": "[encoded data removed]",
      "text/plain": [
       "<Figure size 432x288 with 1 Axes>"
      ]
     },
     "metadata": {
      "needs_background": "light"
     },
     "output_type": "display_data"
    }
   ],
   "source": [
    "plt.plot(c[:,0], c[:,1], 'b.')\n",
    "plt.title(\"A set of points without outliers\")\n",
    "plt.show()"
   ]
  },
  {
   "cell_type": "code",
   "execution_count": 254,
   "metadata": {
    "ExecuteTime": {
     "end_time": "2020-10-26T20:30:10.973661Z",
     "start_time": "2020-10-26T20:30:10.966788Z"
    }
   },
   "outputs": [],
   "source": [
    "def y_hat(w, x):\n",
    "    return w[0]*x+w[1]\n",
    "\n",
    "def lse(w, x, y):\n",
    "    return (y_hat(w,x)-y)**2\n",
    "\n",
    "def Q(w, x, y):\n",
    "    return (1/2)*sum([lse(w, xi, yi) for xi, yi in zip(x, y)])"
   ]
  },
  {
   "cell_type": "code",
   "execution_count": 255,
   "metadata": {
    "ExecuteTime": {
     "end_time": "2020-10-26T20:30:11.369923Z",
     "start_time": "2020-10-26T20:30:11.363936Z"
    }
   },
   "outputs": [],
   "source": [
    "def gradQ(w, x, y):\n",
    "    dQw0 = sum([(w[0]*xi + w[1] - yi)*xi for xi, yi in zip(x, y)])\n",
    "    dQw1 = sum([(w[0]*xi + w[1] - yi) for xi, yi in zip(x, y)])\n",
    "    return np.array([dQw0, dQw1])"
   ]
  },
  {
   "cell_type": "code",
   "execution_count": 256,
   "metadata": {
    "ExecuteTime": {
     "end_time": "2020-10-26T20:30:11.786043Z",
     "start_time": "2020-10-26T20:30:11.778064Z"
    }
   },
   "outputs": [],
   "source": [
    "def grad_desc(x, y, alpha, max_iters):\n",
    "    w0 = np.random.randn(2)\n",
    "    \n",
    "    for it in range(max_iters):\n",
    "\n",
    "        # alpha-backtracking\n",
    "        w = w0 - alpha*gradQ(w0, x, y)\n",
    "        \n",
    "        while(Q(w, x, y) > Q(w0, x, y)):\n",
    "            alpha = alpha/2\n",
    "            w = w0 - alpha*gradQ(w, x, y)\n",
    "            \n",
    "        #print(it, Q(w, x, y))\n",
    "        \n",
    "        if(np.abs(Q(w, x, y) - Q(w0, x, y)) < 10e-4) | (np.linalg.norm(gradQ(w, x, y)) < 10e-5):\n",
    "            break\n",
    "        w0 = w \n",
    "        \n",
    "    return w0"
   ]
  },
  {
   "cell_type": "markdown",
   "metadata": {},
   "source": [
    "### 2. With Outliers"
   ]
  },
  {
   "cell_type": "code",
   "execution_count": 257,
   "metadata": {
    "ExecuteTime": {
     "end_time": "2020-10-26T20:32:31.527867Z",
     "start_time": "2020-10-26T20:30:12.300893Z"
    }
   },
   "outputs": [
    {
     "data": {
      "text/plain": [
       "Text(0.5, 1.0, 'Regression without outliers')"
      ]
     },
     "execution_count": 257,
     "metadata": {},
     "output_type": "execute_result"
    },
    {
     "data": {
      "image/png": "[encoded data removed]",
      "text/plain": [
       "<Figure size 432x288 with 1 Axes>"
      ]
     },
     "metadata": {
      "needs_background": "light"
     },
     "output_type": "display_data"
    }
   ],
   "source": [
    "alpha = 1\n",
    "max_iters = 100000\n",
    "\n",
    "x, y = c[:, 0], c[:, 1]\n",
    "plt.plot(x, y, 'b.')\n",
    "w = grad_desc(x, y, alpha, max_iters)\n",
    "plt.plot(x, [w[0]*xi + w[1] for xi in x], 'r')\n",
    "plt.title(\"Regression without outliers\")"
   ]
  },
  {
   "cell_type": "code",
   "execution_count": 258,
   "metadata": {
    "ExecuteTime": {
     "end_time": "2020-10-26T21:38:26.066344Z",
     "start_time": "2020-10-26T21:36:45.394553Z"
    }
   },
   "outputs": [
    {
     "data": {
      "text/plain": [
       "Text(0.5, 1.0, 'Regression without outliers')"
      ]
     },
     "execution_count": 258,
     "metadata": {},
     "output_type": "execute_result"
    },
    {
     "data": {
      "image/png": "[encoded data removed]",
      "text/plain": [
       "<Figure size 432x288 with 1 Axes>"
      ]
     },
     "metadata": {
      "needs_background": "light"
     },
     "output_type": "display_data"
    }
   ],
   "source": [
    "c_out = c.copy()\n",
    "c_out[0]=[-40, 20]\n",
    "\n",
    "x, y = c_out[:, 0], c_out[:, 1]\n",
    "plt.plot(x, y, 'b.')\n",
    "w = grad_desc(x, y, alpha, max_iters)\n",
    "plt.plot(x, [w[0]*xi + w[1] for xi in x], 'r')\n",
    "plt.title(\"Regression without outliers\")"
   ]
  },
  {
   "cell_type": "markdown",
   "metadata": {},
   "source": [
    "## Cauchy"
   ]
  },
  {
   "cell_type": "markdown",
   "metadata": {},
   "source": [
    "## 1."
   ]
  },
  {
   "cell_type": "code",
   "execution_count": 259,
   "metadata": {},
   "outputs": [],
   "source": [
    "u=np.linspace(0,10,100)"
   ]
  },
  {
   "cell_type": "code",
   "execution_count": 260,
   "metadata": {},
   "outputs": [],
   "source": [
    "def leastsquares(u):\n",
    "    x=u\n",
    "    y=.5*u**2\n",
    "    return x,y\n",
    "\n",
    "def cauchy(u):\n",
    "    x=u\n",
    "    y=.5*np.log(1+u**2)\n",
    "    return x,y"
   ]
  },
  {
   "cell_type": "code",
   "execution_count": 261,
   "metadata": {},
   "outputs": [
    {
     "data": {
      "text/plain": [
       "Text(0.5, 1.0, 'Cauchy')"
      ]
     },
     "execution_count": 261,
     "metadata": {},
     "output_type": "execute_result"
    },
    {
     "data": {
      "image/png": "[encoded data removed]",
      "text/plain": [
       "<Figure size 864x360 with 2 Axes>"
      ]
     },
     "metadata": {
      "needs_background": "light"
     },
     "output_type": "display_data"
    }
   ],
   "source": [
    "fig, (ax1, ax2) = plt.subplots(1, 2,figsize = (12, 5))\n",
    "ax1.plot(leastsquares(u)[0], leastsquares(u)[1], 'b.')\n",
    "ax1.set_title(\"Least Squares\")\n",
    "\n",
    "ax2.plot(cauchy(u)[0], cauchy(u)[1], 'b.')\n",
    "ax2.set_title(\"Cauchy\")"
   ]
  },
  {
   "cell_type": "markdown",
   "metadata": {},
   "source": [
    "## 2."
   ]
  },
  {
   "cell_type": "code",
   "execution_count": 262,
   "metadata": {},
   "outputs": [],
   "source": [
    "def y_hat(w, x):\n",
    "    return w[0]*x+w[1]\n",
    "\n",
    "def lse(c, w, x, y):\n",
    "    return np.log(1+((y_hat(w,x)-y)/c)**2)\n",
    "\n",
    "def Q(c, w, x, y):\n",
    "    return ((c**2)/2)*sum([lse(c, w, xi, yi) for xi, yi in zip(x, y)])"
   ]
  },
  {
   "cell_type": "code",
   "execution_count": 263,
   "metadata": {},
   "outputs": [],
   "source": [
    "def gradQ(c, w, x, y):\n",
    "    dQw0 = (c**2)*sum([(xi*(w[0]*xi + w[1] - yi))/((w[0]*xi + w[1] - yi)**2+(c**2)) for xi, yi in zip(x, y)])\n",
    "    dQw1 = (c**2)*sum([(w[0]*xi + w[1] - yi)/((w[0]*xi + w[1] - yi)**2+(c**2)) for xi, yi in zip(x, y)])\n",
    "    return np.array([dQw0, dQw1])"
   ]
  },
  {
   "cell_type": "code",
   "execution_count": 264,
   "metadata": {},
   "outputs": [],
   "source": [
    "def grad_desc(c, x, y, alpha, max_iters):\n",
    "    w0 = np.random.randn(2)\n",
    "    \n",
    "    for it in range(max_iters):\n",
    "\n",
    "        # alpha-backtracking\n",
    "        w = w0 - alpha*gradQ(c, w0, x, y)\n",
    "        \n",
    "        while(Q(c, w, x, y) > Q(c, w0, x, y)):\n",
    "            alpha = alpha/2\n",
    "            w = w0 - alpha*gradQ(c, w, x, y)\n",
    "        \n",
    "        if(np.abs(Q(c, w, x, y) - Q(c, w0, x, y)) < 10e-4) | (np.linalg.norm(gradQ(c, w, x, y)) < 10e-5):\n",
    "            break\n",
    "        w0 = w \n",
    "        \n",
    "    return w0"
   ]
  },
  {
   "cell_type": "markdown",
   "metadata": {},
   "source": [
    "## 3."
   ]
  },
  {
   "cell_type": "code",
   "execution_count": 265,
   "metadata": {},
   "outputs": [
    {
     "data": {
      "text/plain": [
       "Text(0.5, 1.0, 'Cauchy without outliers')"
      ]
     },
     "execution_count": 265,
     "metadata": {},
     "output_type": "execute_result"
    },
    {
     "data": {
      "image/png": "[encoded data removed]",
      "text/plain": [
       "<Figure size 432x288 with 1 Axes>"
      ]
     },
     "metadata": {
      "needs_background": "light"
     },
     "output_type": "display_data"
    }
   ],
   "source": [
    "alpha = 1\n",
    "max_iters = 100000\n",
    "c1=1\n",
    "x, y = c[:, 0], c[:, 1]\n",
    "plt.plot(x, y, 'b.')\n",
    "w = grad_desc(c1, x, y, alpha, max_iters)\n",
    "plt.plot(x, [w[0]*xi + w[1] for xi in x], 'r')\n",
    "plt.title(\"Cauchy without outliers\")"
   ]
  },
  {
   "cell_type": "markdown",
   "metadata": {},
   "source": [
    "## 4."
   ]
  },
  {
   "cell_type": "code",
   "execution_count": 266,
   "metadata": {},
   "outputs": [
    {
     "data": {
      "text/plain": [
       "Text(0.5, 1.0, 'Cauchy with outliers')"
      ]
     },
     "execution_count": 266,
     "metadata": {},
     "output_type": "execute_result"
    },
    {
     "data": {
      "image/png": "[encoded data removed]",
      "text/plain": [
       "<Figure size 432x288 with 1 Axes>"
      ]
     },
     "metadata": {
      "needs_background": "light"
     },
     "output_type": "display_data"
    }
   ],
   "source": [
    "x, y = c_out[:, 0], c_out[:, 1]\n",
    "plt.plot(x, y, 'b.')\n",
    "w = grad_desc(c1, x, y, alpha, max_iters)\n",
    "plt.plot(x, [w[0]*xi + w[1] for xi in x], 'r')\n",
    "plt.title(\"Cauchy with outliers\")"
   ]
  },
  {
   "cell_type": "markdown",
   "metadata": {},
   "source": [
    "## 5."
   ]
  },
  {
   "cell_type": "code",
   "execution_count": null,
   "metadata": {},
   "outputs": [],
   "source": [
    "c1=np.array([1,100,1/100])\n",
    "\n",
    "fig = plt.figure(figsize=(20,5))\n",
    "\n",
    "num_plots = 3\n",
    "base = 100 + num_plots * 10\n",
    "\n",
    "for i in range(num_plots):\n",
    "    c1_new=c1[i]\n",
    "    ax = fig.add_subplot(base+(1+i))\n",
    "    x, y = c[:, 0], c[:, 1]\n",
    "    ax.plot(x, y, 'b.')\n",
    "    w = grad_desc(c1_new, x, y, alpha, max_iters)\n",
    "    ax.plot(x, [w[0]*xi + w[1] for xi in x], 'r')\n",
    "    ax.set_title(\"Cauchy without outliers & c=(%.3f)\" % d)\n"
   ]
  },
  {
   "cell_type": "markdown",
   "metadata": {},
   "source": [
    "## 6."
   ]
  },
  {
   "cell_type": "code",
   "execution_count": null,
   "metadata": {},
   "outputs": [],
   "source": [
    "c1=1\n",
    "c_out_5 = c.copy()\n",
    "x = np.random.randint(-100, -60, 5)\n",
    "y = np.random.randint(40, 100,5)\n",
    "c_new=np.column_stack((x, y))\n",
    "c_out_5[:5]=c_new\n",
    "\n",
    "x, y = c_out_5[:, 0], c_out_5[:, 1]\n",
    "plt.plot(x, y, 'b.')\n",
    "w = grad_desc(c1, x, y, alpha, max_iters)\n",
    "plt.plot(x, [w[0]*xi + w[1] for xi in x], 'r')\n",
    "plt.title(\"Cauchy with outliers 5 outliers\")"
   ]
  },
  {
   "cell_type": "code",
   "execution_count": null,
   "metadata": {},
   "outputs": [],
   "source": [
    "c_out_15 = c.copy()\n",
    "x = np.random.randint(-100, -60, 15)\n",
    "y = np.random.randint(40, 100,15)\n",
    "c_new=np.column_stack((x, y))\n",
    "c_out_15[:15]=c_new\n",
    "\n",
    "x, y = c_out_15[:, 0], c_out_15[:, 1]\n",
    "plt.plot(x, y, 'b.')\n",
    "w = grad_desc(c1, x, y, alpha, max_iters)\n",
    "plt.plot(x, [w[0]*xi + w[1] for xi in x], 'r')\n",
    "plt.title(\"Cauchy with outliers 15 outliers\")"
   ]
  }
 ],
 "metadata": {
  "kernelspec": {
   "display_name": "Python 3",
   "language": "python",
   "name": "python3"
  },
  "language_info": {
   "codemirror_mode": {
    "name": "ipython",
    "version": 3
   },
   "file_extension": ".py",
   "mimetype": "text/x-python",
   "name": "python",
   "nbconvert_exporter": "python",
   "pygments_lexer": "ipython3",
   "version": "3.7.3"
  }
 },
 "nbformat": 4,
 "nbformat_minor": 4
}
