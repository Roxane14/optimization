{
 "cells": [
  {
   "cell_type": "markdown",
   "metadata": {},
   "source": [
    "# Lab4: Constrained optimization: equality and inequality constraints\n",
    "\n",
    "**Carla Sendra Balcells**\\\n",
    "**Roxane Le Tensorer**\\\n",
    "**Rachel Trimble**"
   ]
  },
  {
   "cell_type": "markdown",
   "metadata": {},
   "source": [
    "Maximize $f(\\alpha)=\\sum_{i=1}^{m} \\alpha_i - \\dfrac{1}{2} \\alpha^T(YX^T XY)  $<br>\n",
    "Subject to $\\sum_{i=1}^{m} y_i \\alpha_i = 0 \\;\\;\\;,\\;\\;\\;0 \\leq \\alpha_i \\leq K $<br>\n",
    "\n",
    "We can write the constraints as follow:<br>\n",
    "$h(x) = \\sum_{i=1}^{m} y_i \\alpha_i = 0$ <br>\n",
    "$g_1(x) = \\alpha_i \\geq 0$ <br>\n",
    "$g_2(x) = -\\alpha_i + K \\geq 0$ <br>"
   ]
  },
  {
   "cell_type": "code",
   "execution_count": 105,
   "metadata": {},
   "outputs": [],
   "source": [
    "#in this example, there are only 4 points. 2 in each category.\n",
    "\n",
    "#the X matrix represents the training vectors x\n",
    "matrix_X = generate_dataset(4)\n",
    "\n",
    "#the Y diagonal matrix represents y values\n",
    "matrix_Y = np.array([[1, 0, 0, 0],[0, 1, 0, 0],[0, 0, -1, 0],[0, 0, 0, -1]])"
   ]
  },
  {
   "cell_type": "code",
   "execution_count": 106,
   "metadata": {
    "ExecuteTime": {
     "end_time": "2020-11-10T18:21:18.767186Z",
     "start_time": "2020-11-10T18:21:18.763184Z"
    }
   },
   "outputs": [],
   "source": [
    "def f(x):\n",
    "    \n",
    "    result=0\n",
    "    for x_i in x:\n",
    "        \n",
    "        mat = matrix_Y.dot(np.transpose(matrix_X))\n",
    "        mat = mat.dot(matrix_X)\n",
    "        mat = mat.dot(matrix_Y)\n",
    "        \n",
    "        result+=x_i-(1/2)*x_i*mat\n",
    "    return result\n",
    "\n",
    "\n",
    "def h(x):\n",
    "    result = 0\n",
    "    for i in range(0,x):\n",
    "        result += matrix_Y[i].dot(x[i])\n",
    "    return result\n",
    "\n",
    "\n",
    "def g1(x):\n",
    "    return x\n",
    "\n",
    "\n",
    "def g2(x,K):\n",
    "    return -x+K"
   ]
  },
  {
   "cell_type": "code",
   "execution_count": 107,
   "metadata": {},
   "outputs": [
    {
     "name": "stdout",
     "output_type": "stream",
     "text": [
      "[[-1.74731859  0.44451236  1.60646521  1.60435576]\n",
      " [ 1.36277202 -0.29256242 -0.89495263 -1.01855077]]\n"
     ]
    }
   ],
   "source": [
    "\"\"\"\n",
    "I don't understand what the teacher means with \"Implement the previous proposed algorithm and use the dataset with the following mean and\n",
    "covariance\", because we have no dataset... So i created this function in order to generate a dataset from the covariance matrix and from the mean.\n",
    "But it doesn't work very well with a little number of values... It works with N=1000 values for instance. \n",
    "\n",
    "\"\"\"\n",
    "\n",
    "import numpy as np\n",
    "linalg = np.linalg\n",
    "\n",
    "def generate_dataset(N):\n",
    "    mean = [0,0]\n",
    "    cov = [[1, -0.9],[-0.9, 1]]\n",
    "    L = linalg.cholesky(cov)\n",
    "    uncorrelated = np.random.standard_normal((2,N))\n",
    "    data = np.dot(L,uncorrelated) + np.array(mean).reshape(2,1)\n",
    "    return np.array(data)\n",
    "\n",
    "#testing call to this function\n",
    "N = 4\n",
    "data = generate_dataset(N)\n",
    "a = f(data)"
   ]
  }
 ],
 "metadata": {
  "kernelspec": {
   "display_name": "Python 3",
   "language": "python",
   "name": "python3"
  },
  "language_info": {
   "codemirror_mode": {
    "name": "ipython",
    "version": 3
   },
   "file_extension": ".py",
   "mimetype": "text/x-python",
   "name": "python",
   "nbconvert_exporter": "python",
   "pygments_lexer": "ipython3",
   "version": "3.8.3"
  }
 },
 "nbformat": 4,
 "nbformat_minor": 4
}
